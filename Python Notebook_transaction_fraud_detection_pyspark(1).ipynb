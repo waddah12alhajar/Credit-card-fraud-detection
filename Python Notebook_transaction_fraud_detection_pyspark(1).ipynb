{
  "cells": [
    {
      "cell_type": "code",
      "execution_count": 1,
      "metadata": {
        "colab": {
          "base_uri": "https://localhost:8080/"
        },
        "id": "0NAyL3HalH1t",
        "outputId": "c0bff8f1-fe6e-4192-9b4a-83c869175de6"
      },
      "outputs": [
        {
          "output_type": "stream",
          "name": "stdout",
          "text": [
            "Looking in indexes: https://pypi.org/simple, https://us-python.pkg.dev/colab-wheels/public/simple/\n",
            "Requirement already satisfied: pyspark in /usr/local/lib/python3.10/dist-packages (3.4.0)\n",
            "Requirement already satisfied: py4j==0.10.9.7 in /usr/local/lib/python3.10/dist-packages (from pyspark) (0.10.9.7)\n"
          ]
        }
      ],
      "source": [
        "pip install pyspark"
      ]
    },
    {
      "cell_type": "code",
      "execution_count": 2,
      "metadata": {
        "colab": {
          "base_uri": "https://localhost:8080/"
        },
        "id": "-Jzp-Z30oNjd",
        "outputId": "98d497b5-849b-4fed-e855-a651f271dc1f"
      },
      "outputs": [
        {
          "output_type": "stream",
          "name": "stdout",
          "text": [
            "Looking in indexes: https://pypi.org/simple, https://us-python.pkg.dev/colab-wheels/public/simple/\n",
            "Requirement already satisfied: seaborn in /usr/local/lib/python3.10/dist-packages (0.12.2)\n",
            "Requirement already satisfied: numpy!=1.24.0,>=1.17 in /usr/local/lib/python3.10/dist-packages (from seaborn) (1.22.4)\n",
            "Requirement already satisfied: pandas>=0.25 in /usr/local/lib/python3.10/dist-packages (from seaborn) (1.5.3)\n",
            "Requirement already satisfied: matplotlib!=3.6.1,>=3.1 in /usr/local/lib/python3.10/dist-packages (from seaborn) (3.7.1)\n",
            "Requirement already satisfied: contourpy>=1.0.1 in /usr/local/lib/python3.10/dist-packages (from matplotlib!=3.6.1,>=3.1->seaborn) (1.0.7)\n",
            "Requirement already satisfied: cycler>=0.10 in /usr/local/lib/python3.10/dist-packages (from matplotlib!=3.6.1,>=3.1->seaborn) (0.11.0)\n",
            "Requirement already satisfied: fonttools>=4.22.0 in /usr/local/lib/python3.10/dist-packages (from matplotlib!=3.6.1,>=3.1->seaborn) (4.39.3)\n",
            "Requirement already satisfied: kiwisolver>=1.0.1 in /usr/local/lib/python3.10/dist-packages (from matplotlib!=3.6.1,>=3.1->seaborn) (1.4.4)\n",
            "Requirement already satisfied: packaging>=20.0 in /usr/local/lib/python3.10/dist-packages (from matplotlib!=3.6.1,>=3.1->seaborn) (23.1)\n",
            "Requirement already satisfied: pillow>=6.2.0 in /usr/local/lib/python3.10/dist-packages (from matplotlib!=3.6.1,>=3.1->seaborn) (8.4.0)\n",
            "Requirement already satisfied: pyparsing>=2.3.1 in /usr/local/lib/python3.10/dist-packages (from matplotlib!=3.6.1,>=3.1->seaborn) (3.0.9)\n",
            "Requirement already satisfied: python-dateutil>=2.7 in /usr/local/lib/python3.10/dist-packages (from matplotlib!=3.6.1,>=3.1->seaborn) (2.8.2)\n",
            "Requirement already satisfied: pytz>=2020.1 in /usr/local/lib/python3.10/dist-packages (from pandas>=0.25->seaborn) (2022.7.1)\n",
            "Requirement already satisfied: six>=1.5 in /usr/local/lib/python3.10/dist-packages (from python-dateutil>=2.7->matplotlib!=3.6.1,>=3.1->seaborn) (1.16.0)\n"
          ]
        }
      ],
      "source": [
        "pip install seaborn"
      ]
    },
    {
      "cell_type": "code",
      "source": [
        "# Import necessary libraries\n",
        "import pyspark.sql.functions as F\n",
        "import pyspark.ml.feature as feat\n",
        "import pyspark.ml.classification as cl\n",
        "import pyspark.ml.evaluation as eval\n",
        "import matplotlib.pyplot as plt\n",
        "from pyspark.sql import SparkSession\n",
        "import seaborn as sns\n",
        "import pandas as pd"
      ],
      "metadata": {
        "id": "OR29xZuPT8kp"
      },
      "execution_count": 3,
      "outputs": []
    },
    {
      "cell_type": "code",
      "source": [
        "# Create a SparkSession\n",
        "spark = SparkSession.builder.appName('CreditCardFraudDetection').getOrCreate()\n",
        "\n",
        "# Load the dataset into a PySpark DataFrame\n",
        "df = spark.read.format('csv').options(header='true', inferSchema='true').load('creditcard.csv')\n"
      ],
      "metadata": {
        "id": "5OeLsLMAUAJn"
      },
      "execution_count": 4,
      "outputs": []
    },
    {
      "cell_type": "code",
      "source": [
        "# Drop unnecessary columns\n",
        "df = df.drop('Time')"
      ],
      "metadata": {
        "id": "EW0IbspOVp0H"
      },
      "execution_count": 5,
      "outputs": []
    },
    {
      "cell_type": "code",
      "source": [
        "# Removing duplicates\n",
        "df = df.dropDuplicates()"
      ],
      "metadata": {
        "id": "zuPGSHwXU1se"
      },
      "execution_count": 6,
      "outputs": []
    },
    {
      "cell_type": "code",
      "source": [
        "from pyspark.sql.functions import count, when, isnull\n",
        "# Drop rows with any null value\n",
        "df_clean = df.dropna()\n",
        "\n",
        "# Check null values \n",
        "df_clean.select([count(when(isnull(c), c)).alias(c) for c in df_clean.columns]).show()\n"
      ],
      "metadata": {
        "colab": {
          "base_uri": "https://localhost:8080/"
        },
        "id": "KBE7CFFwV5e7",
        "outputId": "a9ddc23d-592a-4352-e2b1-3a2984161408"
      },
      "execution_count": 7,
      "outputs": [
        {
          "output_type": "stream",
          "name": "stdout",
          "text": [
            "+---+---+---+---+---+---+---+---+---+---+---+---+---+---+---+---+---+---+---+---+---+---+---+---+---+---+---+---+------+-----+\n",
            "| V1| V2| V3| V4| V5| V6| V7| V8| V9|V10|V11|V12|V13|V14|V15|V16|V17|V18|V19|V20|V21|V22|V23|V24|V25|V26|V27|V28|Amount|Class|\n",
            "+---+---+---+---+---+---+---+---+---+---+---+---+---+---+---+---+---+---+---+---+---+---+---+---+---+---+---+---+------+-----+\n",
            "|  0|  0|  0|  0|  0|  0|  0|  0|  0|  0|  0|  0|  0|  0|  0|  0|  0|  0|  0|  0|  0|  0|  0|  0|  0|  0|  0|  0|     0|    0|\n",
            "+---+---+---+---+---+---+---+---+---+---+---+---+---+---+---+---+---+---+---+---+---+---+---+---+---+---+---+---+------+-----+\n",
            "\n"
          ]
        }
      ]
    },
    {
      "cell_type": "code",
      "source": [
        "import math\n",
        "\n",
        "# Checking for outliers using box plots\n",
        "# Select only numerical columns from the DataFrame\n",
        "num_cols = [c for c,t in df.dtypes if t in ['double', 'int', 'float']]\n",
        "numeric_df = df.select(num_cols)\n",
        "\n",
        "# Calculate the number of rows and columns required for the grid\n",
        "n_cols = 3\n",
        "n_rows = math.ceil(len(num_cols) / n_cols)\n",
        "\n",
        "# Create a grid of box plots for each numerical column\n",
        "fig, axes = plt.subplots(nrows=n_rows, ncols=n_cols, figsize=(15, 10))\n",
        "axes = axes.flatten()\n",
        "\n",
        "for i, column in enumerate(num_cols):\n",
        "    sns.boxplot(y=column, data=numeric_df.toPandas(), color='blue', ax=axes[i])\n",
        "    axes[i].set_title(column)\n",
        "\n",
        "# Hide empty subplots\n",
        "for j in range(i+1, n_rows * n_cols):\n",
        "    axes[j].axis('off')\n",
        "\n",
        "plt.tight_layout()\n",
        "plt.show()\n"
      ],
      "metadata": {
        "colab": {
          "base_uri": "https://localhost:8080/",
          "height": 757
        },
        "id": "frHSAFXvXZeQ",
        "outputId": "e418c954-cc4c-4cf6-938d-6ec4e4fa2508"
      },
      "execution_count": 8,
      "outputs": [
        {
          "output_type": "display_data",
          "data": {
            "text/plain": [
              "<Figure size 1500x1000 with 30 Axes>"
            ],
            "image/png": "[encoded data removed]"
          },
          "metadata": {}
        }
      ]
    },
    {
      "cell_type": "markdown",
      "source": [
        "This code snippet loops over all columns in the DataFrame and casts each column to double data type using the withColumn() method and the cast() function. After this, you can perform your desired operation on the V22 column."
      ],
      "metadata": {
        "id": "OhpYBJPZYw3y"
      }
    },
    {
      "cell_type": "code",
      "source": [
        "from pyspark.sql.functions import col\n",
        "\n",
        "# Cast all columns to double data type\n",
        "for c in df.columns:\n",
        "    df = df.withColumn(c, col(c).cast('double'))"
      ],
      "metadata": {
        "id": "SZoE0GIaYvrQ"
      },
      "execution_count": 9,
      "outputs": []
    },
    {
      "cell_type": "code",
      "source": [
        "df.select('V22').show(10)\n"
      ],
      "metadata": {
        "colab": {
          "base_uri": "https://localhost:8080/"
        },
        "id": "RvPjCX4AZgdS",
        "outputId": "fe1bfa2d-3335-4f1b-a194-ea6c662b8263"
      },
      "execution_count": 11,
      "outputs": [
        {
          "output_type": "stream",
          "name": "stdout",
          "text": [
            "+------------------+\n",
            "|               V22|\n",
            "+------------------+\n",
            "|   1.4009620012101|\n",
            "| 0.345636645537861|\n",
            "| 0.478377507771621|\n",
            "|  -0.7011709151624|\n",
            "| 0.500651283791789|\n",
            "|-0.789994037643152|\n",
            "| -0.48602217178527|\n",
            "|-0.592334224716281|\n",
            "|-0.224655183830571|\n",
            "| -1.16987445211449|\n",
            "+------------------+\n",
            "only showing top 10 rows\n",
            "\n"
          ]
        }
      ]
    },
    {
      "cell_type": "markdown",
      "source": [
        "**Scaling**: Next I am using Standard Scaler which transforms the data to have a zero mean and unit standard deviation. I have chosen it because it gets affected by outliers unlike min max scaling, and I think that when we talk about fraud and unusual transactions then there is a good chance that outliers would belong to this category.\n"
      ],
      "metadata": {
        "id": "2EHnQ_N-IyrP"
      }
    },
    {
      "cell_type": "code",
      "source": [
        "from pyspark.ml.feature import VectorAssembler\n",
        "from pyspark.ml.feature import StandardScaler\n",
        "\n",
        "# Create a VectorAssembler to combine the \"Amount\" column into a vector column\n",
        "assembler = VectorAssembler(inputCols=[\"Amount\"], outputCol=\"AmountVector\")\n",
        "\n",
        "# Apply the VectorAssembler to the DataFrame\n",
        "df_assembled = assembler.transform(df_clean)\n",
        "\n",
        "# Scale the \"AmountVector\" column using StandardScaler\n",
        "scaler = StandardScaler(inputCol=\"AmountVector\", outputCol=\"AmountScaled\")\n",
        "scalerModel = scaler.fit(df_assembled)\n",
        "df_scaled = scalerModel.transform(df_assembled)\n",
        "\n",
        "# Select only the scaled \"Amount\" column\n",
        "df_scaled.select(\"AmountScaled\").show()\n"
      ],
      "metadata": {
        "colab": {
          "base_uri": "https://localhost:8080/"
        },
        "id": "48QG2DbxaOe-",
        "outputId": "b73d37c2-6201-4843-e4e2-a489e1ebfdd0"
      },
      "execution_count": 58,
      "outputs": [
        {
          "output_type": "stream",
          "name": "stdout",
          "text": [
            "+--------------------+\n",
            "|        AmountScaled|\n",
            "+--------------------+\n",
            "|[0.2764460599688202]|\n",
            "|[0.13423430826200...|\n",
            "|[0.22510607740318...|\n",
            "|[0.00394922942812...|\n",
            "|[0.01259804187572...|\n",
            "|[0.00781947426768...|\n",
            "|[0.00912271997897...|\n",
            "|[0.01974614714063...|\n",
            "|[0.05224830533410...|\n",
            "|[0.00781947426768...|\n",
            "|[0.1347477080876592]|\n",
            "|[0.00702962838206...|\n",
            "|[1.0415302770796708]|\n",
            "|[1.0875387999173387]|\n",
            "|[0.2830807654080719]|\n",
            "|[0.02961922071094...|\n",
            "|[3.94922942812600...|\n",
            "|[0.0486150142602311]|\n",
            "|[1.0658970226512081]|\n",
            "|[0.17724141673429...|\n",
            "+--------------------+\n",
            "only showing top 20 rows\n",
            "\n"
          ]
        }
      ]
    },
    {
      "cell_type": "markdown",
      "source": [
        "Next , Let's count the instances of normal and fraud classes before applying over sampling technique:"
      ],
      "metadata": {
        "id": "5pm82KnJJ7L_"
      }
    },
    {
      "cell_type": "code",
      "source": [
        "from pyspark.sql.functions import col\n",
        "\n",
        "# Group by Class column and count the number of occurrences\n",
        "class_count_df = df_clean.groupBy('Class').count().withColumnRenamed('count', 'Counts')\n",
        "\n",
        "# Replace Class values with Normal and Fraud\n",
        "class_count_df = class_count_df.withColumn('Class', \n",
        "                                           when(col('Class') == 0, 'Normal')\n",
        "                                           .otherwise('Fraud'))\n",
        "\n",
        "# Convert to Pandas DataFrame and display\n",
        "class_count_df = class_count_df.toPandas()\n",
        "print(class_count_df.head())\n"
      ],
      "metadata": {
        "colab": {
          "base_uri": "https://localhost:8080/"
        },
        "id": "PA7ZEUR1W2T4",
        "outputId": "4eed833b-7a45-4853-a0be-c7fe02fa5019"
      },
      "execution_count": 59,
      "outputs": [
        {
          "output_type": "stream",
          "name": "stdout",
          "text": [
            "    Class  Counts\n",
            "0   Fraud     473\n",
            "1  Normal  275190\n"
          ]
        }
      ]
    },
    {
      "cell_type": "code",
      "source": [
        "import pandas as pd\n",
        "import pyspark.sql.functions as F\n",
        "\n",
        "# Convert the PySpark DataFrame to a Pandas DataFrame\n",
        "class_count_df = df_scaled.groupby(\"Class\").count().withColumnRenamed(\"count\", \"Counts\").toPandas()\n",
        "\n",
        "# Replace the Class values\n",
        "class_count_df[\"Class\"] = class_count_df[\"Class\"].replace({0: \"Normal\", 1: \"Fraud\"})\n",
        "\n",
        "# Plot the counts using a bar chart\n",
        "class_count_df.plot(kind=\"bar\", x=\"Class\", y=\"Counts\", legend=False, color=[\"blue\", \"blue\"])\n"
      ],
      "metadata": {
        "colab": {
          "base_uri": "https://localhost:8080/",
          "height": 503
        },
        "id": "7jOL_uxzdEWH",
        "outputId": "3772bb64-53de-4509-c703-926c1a4a44ee"
      },
      "execution_count": 60,
      "outputs": [
        {
          "output_type": "execute_result",
          "data": {
            "text/plain": [
              "<Axes: xlabel='Class'>"
            ]
          },
          "metadata": {},
          "execution_count": 60
        },
        {
          "output_type": "display_data",
          "data": {
            "text/plain": [
              "<Figure size 640x480 with 1 Axes>"
            ],
            "image/png": "[encoded data removed]"
          },
          "metadata": {}
        }
      ]
    },
    {
      "cell_type": "code",
      "source": [
        "from imblearn.over_sampling import SMOTE\n",
        "from pyspark.sql.functions import col\n",
        "\n",
        "# Create an instance of SMOTE class\n",
        "smote = SMOTE()\n",
        "\n",
        "# Convert PySpark DataFrame to Pandas DataFrame\n",
        "pandas_df = df_clean.toPandas()\n",
        "\n",
        "# Split features and target columns\n",
        "X = pandas_df.drop('Class', axis=1)\n",
        "y = pandas_df['Class']\n",
        "\n",
        "# Perform SMOTE on training data\n",
        "X_resampled, y_resampled = smote.fit_resample(X, y)\n",
        "\n",
        "# Combine resampled features and target columns\n",
        "resampled_df = pd.concat([X_resampled, y_resampled], axis=1)\n",
        "\n",
        "# Convert Pandas DataFrame back to PySpark DataFrame\n",
        "df_resampled = spark.createDataFrame(resampled_df)\n",
        "\n",
        "# Check the new distribution of the target variable\n",
        "df_resampled.groupBy('Class').count().orderBy(col('count').desc()).show()\n"
      ],
      "metadata": {
        "colab": {
          "base_uri": "https://localhost:8080/"
        },
        "id": "Lh1mwrGjduhX",
        "outputId": "73bfef70-5392-4d56-8b52-405dcbea96d5"
      },
      "execution_count": 10,
      "outputs": [
        {
          "output_type": "stream",
          "name": "stdout",
          "text": [
            "+-----+------+\n",
            "|Class| count|\n",
            "+-----+------+\n",
            "|    0|275190|\n",
            "|    1|275190|\n",
            "+-----+------+\n",
            "\n"
          ]
        }
      ]
    },
    {
      "cell_type": "code",
      "source": [
        "import matplotlib.pyplot as plt\n",
        "\n",
        "# Get the count of each class\n",
        "fraud_count = df_resampled.filter(df_resampled.Class == 1).count()\n",
        "normal_count = df_resampled.filter(df_resampled.Class == 0).count()\n",
        "\n",
        "# Create a bar chart\n",
        "plt.bar(['Fraud', 'Normal'], [fraud_count, normal_count])\n",
        "\n",
        "# Add labels and title\n",
        "plt.xlabel('Class')\n",
        "plt.ylabel('Count')\n",
        "plt.title('Count of Different Classes after SMOTE')\n",
        "\n",
        "# Display the plot\n",
        "plt.show()\n"
      ],
      "metadata": {
        "colab": {
          "base_uri": "https://localhost:8080/",
          "height": 472
        },
        "id": "RWcJImbhj70M",
        "outputId": "e520f772-9884-4f4c-bea2-338642363113"
      },
      "execution_count": 62,
      "outputs": [
        {
          "output_type": "display_data",
          "data": {
            "text/plain": [
              "<Figure size 640x480 with 1 Axes>"
            ],
            "image/png": "[encoded data removed]"
          },
          "metadata": {}
        }
      ]
    },
    {
      "cell_type": "markdown",
      "source": [
        "ML Algorithms"
      ],
      "metadata": {
        "id": "7ssNenXpQk7n"
      }
    },
    {
      "cell_type": "markdown",
      "source": [
        "Logistic Regression is a popular algorithm used for binary classification tasks. It models the relationship between the dependent and the independent variables using the logistic function. Logistic Regression estimates the probabilities of the binary outcome based on the input features and applies a threshold to make predictions. It is computationally efficient, interpretable, and works well with linearly separable data.\n"
      ],
      "metadata": {
        "id": "GwzR_IiOP_Ym"
      }
    },
    {
      "cell_type": "code",
      "source": [
        "from pyspark.ml.classification import LogisticRegression\n",
        "from pyspark.ml.evaluation import BinaryClassificationEvaluator, MulticlassClassificationEvaluator\n",
        "from pyspark.ml.feature import VectorAssembler\n",
        "\n",
        "# Convert the AmountScaled column to a vector\n",
        "assembler = VectorAssembler(inputCols=df_resampled.columns[:-3], outputCol=\"features3\")\n",
        "df_resampled = assembler.transform(df_resampled)\n",
        "\n",
        "# Split the data into training and testing sets\n",
        "(training_data, testing_data) = df_resampled.randomSplit([0.7, 0.3], seed=42)\n",
        "\n",
        "# Train a logistic regression model\n",
        "lr = LogisticRegression(featuresCol=\"features3\", labelCol=\"Class\")\n",
        "model = lr.fit(training_data)\n",
        "\n",
        "# Make predictions on the testing data\n",
        "predictions = model.transform(testing_data)\n",
        "\n",
        "# Evaluate the model using precision, recall, F1 score, and AUC-ROC\n",
        "evaluator = BinaryClassificationEvaluator(labelCol=\"Class\")\n",
        "auc_roc = evaluator.evaluate(predictions)\n",
        "\n",
        "evaluator1 = MulticlassClassificationEvaluator(labelCol=\"Class\", metricName=\"weightedPrecision\")\n",
        "precision = evaluator1.evaluate(predictions)\n",
        "\n",
        "evaluator2 = MulticlassClassificationEvaluator(labelCol=\"Class\", metricName=\"weightedRecall\")\n",
        "recall = evaluator2.evaluate(predictions)\n",
        "\n",
        "evaluator3 = MulticlassClassificationEvaluator(labelCol=\"Class\", metricName=\"f1\")\n",
        "f1_score = evaluator3.evaluate(predictions)\n",
        "\n",
        "evaluator4 = BinaryClassificationEvaluator(labelCol=\"Class\", rawPredictionCol=\"prediction\", metricName=\"areaUnderPR\")\n",
        "auprc_dt = evaluator4.evaluate(predictions)\n",
        "\n",
        "print(\"AUC-ROC:\", auc_roc)\n",
        "print(\"Precision:\", precision)\n",
        "print(\"Recall:\", recall)\n",
        "print(\"F1 score:\", f1_score)\n",
        "print(\"AUPRC = %g\" % auprc_dt)\n",
        "\n"
      ],
      "metadata": {
        "colab": {
          "base_uri": "https://localhost:8080/"
        },
        "id": "4ZeJUJ2cuEWc",
        "outputId": "0643c6d5-ace2-4e73-a83e-c82614e89917"
      },
      "execution_count": 35,
      "outputs": [
        {
          "output_type": "stream",
          "name": "stdout",
          "text": [
            "AUC-ROC: 0.998142266552781\n",
            "Precision: 0.9806622493322064\n",
            "Recall: 0.9806113537117904\n",
            "F1 score: 0.9806104644664303\n",
            "AUPRC = 0.979581\n"
          ]
        }
      ]
    },
    {
      "cell_type": "markdown",
      "source": [
        "**Evaluation Metrics:**\n",
        "**Precision** is a metric that measures the accuracy of positive predictions made by a classifier. It is calculated as the ratio of true positives (TP) to the sum of true positives and false positives (FP). Precision focuses on the relevant instances among the predicted positive instances and indicates how precise the model's positive predictions are. The formula for precision is:\n",
        "Precision = TP / (TP + FP)\n",
        "\n",
        "**Recall**, also known as sensitivity or true positive rate (TPR), measures the ability of a classifier to identify all positive instances correctly. It is calculated as the ratio of true positives (TP) to the sum of true positives and false negatives (FN). Recall focuses on the relevant instances among the actual positive instances and indicates how well the model captures positive instances. The formula for recall is:\n",
        " Recall = TP / (TP + FN)\n",
        "\n",
        "**The area under the precision-recall curve (AUPRC)** is a metric used to evaluate the performance of a binary classifier. It plots precision against recall. A higher AUPRC value indicates better model performance in terms of precision and recall. The AUPRC ranges from 0 to 1, with 1 being the best performance. The AUPRC is calculated by computing the integral under the precision-recall curve.\n",
        "\n",
        "\n",
        " **The F1 score** is a measure that combines precision and recall into a single metric, providing a balanced evaluation of a classifier's performance, and it ranges between 0 and 1. The F1 score reaches its best value at 1 (perfect precision and recall) and worst value at 0 (either precision or recall is 0). The formula for the F1 score is:\n",
        " F1 Score = 2 * (Precision * Recall) / (Precision + Recall)\n",
        "\n",
        "**The area under the precision-recall curve (AUPRC)** is a metric used to evaluate the performance of a binary classifier. It plots precision against recall. A higher AUPRC value indicates better model performance in terms of precision and recall. The AUPRC ranges from 0 to 1, with 1 being the best performance. The AUPRC is calculated by computing the integral under the precision-recall curve.\n"
      ],
      "metadata": {
        "id": "ArRG4uZlQsvv"
      }
    },
    {
      "cell_type": "markdown",
      "source": [
        "**2-Decision Tree** algorithm builds a tree-like model of decisions and their possible consequences. It recursively splits the data based on feature thresholds to create a hierarchical structure of if-else conditions.\n",
        "Image credits: Datacamp\n"
      ],
      "metadata": {
        "id": "Gd5MDSrjRm1n"
      }
    },
    {
      "cell_type": "code",
      "source": [
        "#Decision Tree\n",
        "from pyspark.ml.classification import DecisionTreeClassifier\n",
        "from pyspark.ml.evaluation import BinaryClassificationEvaluator, MulticlassClassificationEvaluator\n",
        "\n",
        "# Split the data into training and test sets\n",
        "(trainingData_dt, testData_dt) = df_resampled.randomSplit([0.7, 0.3], seed=1234)\n",
        "\n",
        "# Create a Decision Tree classifier\n",
        "dt = DecisionTreeClassifier(labelCol=\"Class\", featuresCol=\"features\")\n",
        "\n",
        "# Train the model using the training data\n",
        "dtModel = dt.fit(trainingData_dt)\n",
        "\n",
        "# Make predictions using the test data\n",
        "predictions_dt = dtModel.transform(testData_dt)\n",
        "\n",
        "# Evaluate the model using precision, recall, f1 score, and area under ROC curve\n",
        "evaluator1_dt = MulticlassClassificationEvaluator(labelCol=\"Class\", metricName=\"precision\")\n",
        "precision = evaluator1.evaluate(predictions)\n",
        "evaluator5_dt = MulticlassClassificationEvaluator(labelCol=\"Class\", metricName=\"recall\")\n",
        "recall = evaluator1.evaluate(predictions)\n",
        "\n",
        "evaluator2_dt = BinaryClassificationEvaluator(labelCol=\"Class\", rawPredictionCol=\"prediction\", metricName=\"areaUnderPR\")\n",
        "auprc_dt = evaluator2_dt.evaluate(predictions_dt)\n",
        "\n",
        "\n",
        "evaluator3_dt = MulticlassClassificationEvaluator(labelCol=\"Class\", predictionCol=\"prediction\", metricName=\"f1\")\n",
        "f1_score_dt = evaluator3_dt.evaluate(predictions_dt)\n",
        "\n",
        "evaluator4_dt = BinaryClassificationEvaluator(labelCol=\"Class\", rawPredictionCol=\"prediction\", metricName=\"areaUnderROC\")\n",
        "auc_dt = evaluator4_dt.evaluate(predictions_dt)\n",
        "evaluator5_dt = MulticlassClassificationEvaluator(labelCol=\"Class\", metricName=\"Recall\")\n",
        "recall = evaluator1.evaluate(predictions)\n",
        "\n",
        "# Print the evaluation metrics\n",
        "print(\"Decision Tree Model Evaluation Metrics\")\n",
        "print(\"Precision = %g\" % precision)\n",
        "print(\"AUPRC = %g\" % auprc_dt)\n",
        "print(\"Recall= %g\" % recall)\n",
        "\n",
        "print(\"F1 Score = %g\" % f1_score_dt)\n",
        "print(\"Area Under ROC Curve = %g\" % auc_dt)\n"
      ],
      "metadata": {
        "colab": {
          "base_uri": "https://localhost:8080/"
        },
        "id": "J-iHnAozvNw4",
        "outputId": "89ccb902-b489-4abd-ed1e-ea8cccc40d8f"
      },
      "execution_count": 31,
      "outputs": [
        {
          "output_type": "stream",
          "name": "stdout",
          "text": [
            "Decision Tree Model Evaluation Metrics\n",
            "Precision = 0.980662\n",
            "AUPRC = 0.990677\n",
            "Recall= 0.980662\n",
            "F1 Score = 0.993928\n",
            "Area Under ROC Curve = 0.993924\n"
          ]
        }
      ]
    },
    {
      "cell_type": "markdown",
      "source": [
        "**3-Random Forest** is an ensemble learning algorithm that combines multiple Decision Trees. It works by creating a set of decision trees on random subsets of the training data and features. During prediction, each tree in the forest independently predicts the class, and the final prediction is determined by majority voting. Random Forest reduces overfitting.\n"
      ],
      "metadata": {
        "id": "D4nQ44xAR0TO"
      }
    },
    {
      "cell_type": "code",
      "source": [
        "#Randomforest\n",
        "# Import the necessary libraries\n",
        "from pyspark.ml.classification import RandomForestClassifier\n",
        "from pyspark.ml.evaluation import BinaryClassificationEvaluator, MulticlassClassificationEvaluator\n",
        "\n",
        "# Create the Random Forest classifier\n",
        "rf = RandomForestClassifier(featuresCol=\"features\", labelCol=\"Class\", numTrees=10)\n",
        "\n",
        "# Split the data into training and testing sets\n",
        "train_data, test_data = df_resampled.randomSplit([0.7, 0.3], seed=42)\n",
        "\n",
        "# Train the model\n",
        "model_rf = rf.fit(train_data)\n",
        "\n",
        "# Make predictions on the test data\n",
        "predictions_rf = model_rf.transform(test_data)\n",
        "\n",
        "\n",
        "evaluator_recall_rf = BinaryClassificationEvaluator(labelCol=\"Class\", rawPredictionCol=\"prediction\", metricName=\"areaUnderPR\")\n",
        "auprc = evaluator_recall_rf.evaluate(predictions_rf)\n",
        "\n",
        "evaluator_f1_rf = MulticlassClassificationEvaluator(labelCol=\"Class\", predictionCol=\"prediction\", metricName=\"f1\")\n",
        "f1_score_rf = evaluator_f1_rf.evaluate(predictions_rf)\n",
        "\n",
        "evaluator_auc_rf = BinaryClassificationEvaluator(labelCol=\"Class\", rawPredictionCol=\"prediction\", metricName=\"areaUnderROC\")\n",
        "auc_rf = evaluator_auc_rf.evaluate(predictions_rf)\n",
        "\n",
        "evaluator_precision_rf = MulticlassClassificationEvaluator(labelCol=\"Class\", predictionCol=\"prediction\", metricName=\"weightedPrecision\")\n",
        "precision_rf = evaluator_precision_rf.evaluate(predictions_rf)\n",
        "\n",
        "evaluator_recall_rf = MulticlassClassificationEvaluator(labelCol=\"Class\", predictionCol=\"prediction\", metricName=\"weightedRecall\")\n",
        "recall_rf = evaluator_recall_rf.evaluate(predictions_rf)\n",
        "\n",
        "# Print the evaluation metrics\n",
        "\n",
        "print(\"Random Forest Model - Evaluation Metrics:\")\n",
        "print(\"Random Forest Classifier Evaluation Metrics:\")\n",
        "print(\"AUC-ROC: {}\".format(auc_rf))\n",
        "print(\"Area under PR : {}\".format(auprc))\n",
        "print(\"F1 Score: {}\".format(f1_score_rf))\n",
        "print(\"Recall = {:.2f}\".format(recall_rf))\n",
        "print(\"Precision = {:.2f}\".format(precision_rf))\n",
        "\n"
      ],
      "metadata": {
        "colab": {
          "base_uri": "https://localhost:8080/"
        },
        "id": "OFjbA2QAuiLX",
        "outputId": "b55e4c75-9188-4227-f120-8037445584ce"
      },
      "execution_count": 27,
      "outputs": [
        {
          "output_type": "stream",
          "name": "stdout",
          "text": [
            "Random Forest Model - Evaluation Metrics:\n",
            "Random Forest Classifier Evaluation Metrics:\n",
            "AUC-ROC: 0.9899008143885121\n",
            "Area under PR : 0.9927207827042286\n",
            "F1 Score: 0.9899264384835587\n",
            "Recall = 0.99\n",
            "Precision = 0.99\n"
          ]
        }
      ]
    },
    {
      "cell_type": "markdown",
      "source": [
        "**4-SVM** finds an optimal hyperplane that separates the data points of different classes with the largest margin.\n"
      ],
      "metadata": {
        "id": "QwT81Z2sSGc4"
      }
    },
    {
      "cell_type": "code",
      "source": [
        "# SVM\n",
        "# Import the necessary libraries\n",
        "from pyspark.ml.classification import LinearSVC\n",
        "from pyspark.ml.evaluation import BinaryClassificationEvaluator, MulticlassClassificationEvaluator\n",
        "\n",
        "# Create the SVM classifier\n",
        "svm = LinearSVC(featuresCol=\"features\", labelCol=\"Class\", maxIter=10, regParam=0.1)\n",
        "\n",
        "# Split the data into training and testing sets\n",
        "train_data, test_data = df_resampled.randomSplit([0.7, 0.3], seed=42)\n",
        "\n",
        "# Train the model\n",
        "model_svm = svm.fit(train_data)\n",
        "\n",
        "# Make predictions on the test data\n",
        "predictions_svm = model_svm.transform(test_data)\n",
        "\n",
        "\n",
        "evaluator_recall_svm = BinaryClassificationEvaluator(labelCol=\"Class\", rawPredictionCol=\"prediction\", metricName=\"areaUnderPR\")\n",
        "auprc = evaluator_recall_svm.evaluate(predictions_svm)\n",
        "\n",
        "evaluator_f1_svm = MulticlassClassificationEvaluator(labelCol=\"Class\", predictionCol=\"prediction\", metricName=\"f1\")\n",
        "f1_score_svm = evaluator_f1_svm.evaluate(predictions_svm)\n",
        "\n",
        "evaluator_auc_svm = BinaryClassificationEvaluator(labelCol=\"Class\", rawPredictionCol=\"prediction\", metricName=\"areaUnderROC\")\n",
        "auc_svm = evaluator_auc_svm.evaluate(predictions_svm)\n",
        "\n",
        "evaluator_precision_svm = MulticlassClassificationEvaluator(labelCol=\"Class\", predictionCol=\"prediction\", metricName=\"weightedPrecision\")\n",
        "precision_svm = evaluator_precision_svm.evaluate(predictions_svm)\n",
        "\n",
        "evaluator_recall_svm = MulticlassClassificationEvaluator(labelCol=\"Class\", predictionCol=\"prediction\", metricName=\"weightedRecall\")\n",
        "recall_svm = evaluator_recall_svm.evaluate(predictions_svm)\n",
        "\n",
        "# Print the evaluation metrics\n",
        "print(\"SVM Model - Evaluation Metrics:\")\n",
        "print(\"SVM Classifier Evaluation Metrics:\")\n",
        "print(\"AUC-ROC: {}\".format(auprc))\n",
        "print(\"Area under PR : {}\".format(recall_svm))\n",
        "print(\"F1 Score: {}\".format(f1_score_svm))\n",
        "print(\"Recall = {:.2f}\".format(recall_svm))\n",
        "print(\"Precision = {:.2f}\".format(precision_svm))\n"
      ],
      "metadata": {
        "colab": {
          "base_uri": "https://localhost:8080/"
        },
        "id": "U5diOyRH4l46",
        "outputId": "c296af35-17f5-45af-8077-a8b15416504f"
      },
      "execution_count": 26,
      "outputs": [
        {
          "output_type": "stream",
          "name": "stdout",
          "text": [
            "SVM Model - Evaluation Metrics:\n",
            "SVM Classifier Evaluation Metrics:\n",
            "AUC-ROC: 0.974950651658105\n",
            "Area under PR : 0.9535953420669577\n",
            "F1 Score: 0.9534964683755565\n",
            "Recall = 0.95\n",
            "Precision = 0.96\n"
          ]
        }
      ]
    },
    {
      "cell_type": "markdown",
      "source": [
        "**Extreme Gradient Boosting** is an optimized implementation of the gradient boosting algorithm. It is a powerful ensemble learning algorithm that combines weak predictive models (typically decision trees) to create a strong predictive model. XGBoost applies a boosting technique where new models are trained to correct the errors made by the previous models. It uses a gradient descent optimization algorithm to minimize a loss function and improve model performance. XGBoost is known for its speed, scalability, and ability to handle large datasets. "
      ],
      "metadata": {
        "id": "djnDm18MSN0O"
      }
    },
    {
      "cell_type": "code",
      "source": [
        "#XGBclassifier\n",
        "# Import the necessary libraries\n",
        "from pyspark.ml.classification import GBTClassifier\n",
        "from pyspark.ml.evaluation import BinaryClassificationEvaluator, MulticlassClassificationEvaluator\n",
        "\n",
        "# Create the XGBoost classifier\n",
        "xgb = GBTClassifier(featuresCol=\"features\", labelCol=\"Class\", maxDepth=5, maxBins=32, maxIter=10)\n",
        "\n",
        "# Split the data into training and testing sets\n",
        "train_data, test_data = df_resampled.randomSplit([0.7, 0.3], seed=42)\n",
        "\n",
        "# Train the model\n",
        "model_xgb = xgb.fit(train_data)\n",
        "\n",
        "# Make predictions on the test data\n",
        "predictions_xgb = model_xgb.transform(test_data)\n",
        "\n",
        "# Evaluate the model\n",
        "evaluator_auc_xgb = BinaryClassificationEvaluator(labelCol=\"Class\", rawPredictionCol=\"prediction\", metricName=\"areaUnderROC\")\n",
        "auc_xgb = evaluator_auc_xgb.evaluate(predictions_xgb)\n",
        "\n",
        "evaluator_recall_xgb = BinaryClassificationEvaluator(labelCol=\"Class\", rawPredictionCol=\"prediction\", metricName=\"areaUnderPR\")\n",
        "recall_xgb = evaluator_recall_xgb.evaluate(predictions_xgb)\n",
        "\n",
        "evaluator_f1_xgb = MulticlassClassificationEvaluator(labelCol=\"Class\", predictionCol=\"prediction\", metricName=\"f1\")\n",
        "f1_score_xgb = evaluator_f1_xgb.evaluate(predictions_xgb)\n",
        "\n",
        "evaluator_precision_xgb = MulticlassClassificationEvaluator(labelCol=\"Class\", predictionCol=\"prediction\", metricName=\"weightedPrecision\")\n",
        "precision_xgb = evaluator_precision_xgb.evaluate(predictions_xgb)\n",
        "\n",
        "evaluator_recall_xgb = MulticlassClassificationEvaluator(labelCol=\"Class\", predictionCol=\"prediction\", metricName=\"weightedRecall\")\n",
        "recall_xgb = evaluator_recall_xgb.evaluate(predictions_xgb)\n",
        "\n",
        "# Print the evaluation metrics\n",
        "print(\"XGBoost Model - Evaluation Metrics:\")\n",
        "print(\"Area Under ROC: {}\".format(auc_xgb))\n",
        "print(\"Area Under PR: {}\".format(recall_xgb))\n",
        "print(\"F1 Score: {}\".format(f1_score_xgb))\n",
        "print(\"Precision: {}\".format(precision_xgb))\n",
        "print(\"Recall: {}\".format(recall_xgb))\n"
      ],
      "metadata": {
        "colab": {
          "base_uri": "https://localhost:8080/"
        },
        "id": "BLrJgBUN8YR8",
        "outputId": "e1e1c871-7491-485f-98a1-870b3a050ea6"
      },
      "execution_count": 38,
      "outputs": [
        {
          "output_type": "stream",
          "name": "stdout",
          "text": [
            "XGBoost Model - Evaluation Metrics:\n",
            "Area Under ROC: 0.9943596553620162\n",
            "Area Under PR: 0.9943522561863174\n",
            "F1 Score: 0.9943522749495959\n",
            "Precision: 0.9943605524363237\n",
            "Recall: 0.9943522561863174\n"
          ]
        }
      ]
    },
    {
      "cell_type": "markdown",
      "source": [
        "**Neural Networks** are a class of deep learning models inspired by the structure and function of biological neural networks. They consist of interconnected layers of artificial neurons that process and transmit information. Neural Networks can learn complex relationships in data by adjusting the weights and biases of the connections between neurons. They excel at capturing non-linear relationships.\n"
      ],
      "metadata": {
        "id": "9I3zqhHtScE2"
      }
    },
    {
      "cell_type": "code",
      "source": [
        "from pyspark.ml.classification import MultilayerPerceptronClassifier\n",
        "from pyspark.ml.evaluation import BinaryClassificationEvaluator, MulticlassClassificationEvaluator\n",
        "from pyspark.ml.feature import VectorAssembler\n",
        "\n",
        "# Define the layers of the neural network\n",
        "layers = [29, 20, 10, 2]\n",
        "\n",
        "# Create the VectorAssembler\n",
        "assembler = VectorAssembler(inputCols=df_resampled.columns[:-1], outputCol='features_transformed')\n",
        "\n",
        "# Transform the data\n",
        "data = assembler.transform(df_resampled)\n",
        "\n",
        "# Split the data into training and testing sets\n",
        "train_data, test_data = data.randomSplit([0.7, 0.3], seed=42)\n",
        "\n",
        "# Create the neural network\n",
        "nn = MultilayerPerceptronClassifier(labelCol=\"Class\", featuresCol=\"features\", maxIter=100, layers=layers)\n",
        "\n",
        "# Train the model\n",
        "model_nn = nn.fit(train_data)\n",
        "\n",
        "# Make predictions on the test data\n",
        "predictions_nn = model_nn.transform(test_data)\n",
        "\n",
        "# Evaluate the model\n",
        "evaluator_auc_nn = BinaryClassificationEvaluator(labelCol=\"Class\", rawPredictionCol=\"prediction\", metricName=\"areaUnderROC\")\n",
        "auc_nn = evaluator_auc_nn.evaluate(predictions_nn)\n",
        "\n",
        "evaluator_recall_nn = BinaryClassificationEvaluator(labelCol=\"Class\", rawPredictionCol=\"prediction\", metricName=\"areaUnderPR\")\n",
        "auprc = evaluator_recall_nn.evaluate(predictions_nn)\n",
        "\n",
        "evaluator_f1_nn = MulticlassClassificationEvaluator(labelCol=\"Class\", predictionCol=\"prediction\", metricName=\"f1\")\n",
        "f1_score_nn = evaluator_f1_nn.evaluate(predictions_nn)\n",
        "\n",
        "evaluator_precision_nn = MulticlassClassificationEvaluator(labelCol=\"Class\", predictionCol=\"prediction\", metricName=\"weightedPrecision\")\n",
        "precision_nn = evaluator_precision_nn.evaluate(predictions_nn)\n",
        "\n",
        "evaluator_recall_nn = MulticlassClassificationEvaluator(labelCol=\"Class\", predictionCol=\"prediction\", metricName=\"weightedRecall\")\n",
        "recall_nn = evaluator_recall_nn.evaluate(predictions_nn)\n",
        "\n",
        "evaluator = BinaryClassificationEvaluator(labelCol=\"Class\", metricName=\"areaUnderPR\")\n",
        "auprc = evaluator.evaluate(predictions)\n",
        "\n",
        "# Print the evaluation metrics\n",
        "print(\"Neural Network Model - Evaluation Metrics:\")\n",
        "print(\"Area Under ROC: {}\".format(auc_nn))\n",
        "print(\"Area Under PR: {}\".format(auprc))\n",
        "print(\"F1 Score: {}\".format(f1_score_nn))\n",
        "print(\"Precision: {}\".format(precision_nn))\n",
        "print(\"Recall: {}\".format(recall_nn))\n"
      ],
      "metadata": {
        "colab": {
          "base_uri": "https://localhost:8080/"
        },
        "id": "cYhbGOTH93rI",
        "outputId": "da8bcdfc-b035-4c4b-ecdd-d3fd1f691715"
      },
      "execution_count": 41,
      "outputs": [
        {
          "output_type": "stream",
          "name": "stdout",
          "text": [
            "Neural Network Model - Evaluation Metrics:\n",
            "Area Under ROC: 0.9955877186430643\n",
            "Area Under PR: 0.9975048461855066\n",
            "F1 Score: 0.9955749663100978\n",
            "Precision: 0.9955992696527829\n",
            "Recall: 0.9955749636098981\n"
          ]
        }
      ]
    },
    {
      "cell_type": "markdown",
      "source": [
        "**L-BFGS** (Limited-memory Broyden-Fletcher-Goldfarb-Shanno) algorithm is a widely used optimization algorithm for training neural networks. L-BFGS is an iterative optimization algorithm that approximates the Hessian matrix, which represents the second-order derivatives of the loss function with respect to the weights of the neural network."
      ],
      "metadata": {
        "id": "c_lYdjeHS1Yv"
      }
    },
    {
      "cell_type": "code",
      "source": [
        "#hyperparamter tuning 1\n",
        "# Define the hyperparameters for the neural network\n",
        "layers = [29, 20, 10, 2]\n",
        "max_iter = 100\n",
        "tolerance = 1e-6\n",
        "block_size = 128\n",
        "solver = \"l-bfgs\"\n",
        "step_size = 0.03\n",
        "\n",
        "# Create the neural network\n",
        "nn = MultilayerPerceptronClassifier(\n",
        "    labelCol=\"Class\", \n",
        "    featuresCol=\"features\", \n",
        "    maxIter=max_iter, \n",
        "    layers=layers, \n",
        "    tol=tolerance, \n",
        "    blockSize=block_size, \n",
        "    solver=solver,\n",
        "    stepSize=step_size\n",
        ")\n",
        "\n",
        "# Train the model\n",
        "model_nn = nn.fit(train_data)\n",
        "\n",
        "# Make predictions on the test data\n",
        "predictions_nn = model_nn.transform(test_data)\n",
        "# Evaluate the model\n",
        "evaluator_auc_nn = BinaryClassificationEvaluator(labelCol=\"Class\", rawPredictionCol=\"prediction\", metricName=\"areaUnderROC\")\n",
        "auc_nn = evaluator_auc_nn.evaluate(predictions_nn)\n",
        "\n",
        "evaluator_recall_nn = BinaryClassificationEvaluator(labelCol=\"Class\", rawPredictionCol=\"prediction\", metricName=\"areaUnderPR\")\n",
        "auprc= evaluator_recall_nn.evaluate(predictions_nn)\n",
        "\n",
        "evaluator_f1_nn = MulticlassClassificationEvaluator(labelCol=\"Class\", predictionCol=\"prediction\", metricName=\"f1\")\n",
        "f1_score_nn = evaluator_f1_nn.evaluate(predictions_nn)\n",
        "\n",
        "evaluator_precision_nn = MulticlassClassificationEvaluator(labelCol=\"Class\", predictionCol=\"prediction\", metricName=\"weightedPrecision\")\n",
        "precision_nn = evaluator_precision_nn.evaluate(predictions_nn)\n",
        "\n",
        "evaluator_recall_nn = MulticlassClassificationEvaluator(labelCol=\"Class\", predictionCol=\"prediction\", metricName=\"weightedRecall\")\n",
        "recall_nn = evaluator_recall_nn.evaluate(predictions_nn)\n",
        "\n",
        "# Print the evaluation metrics\n",
        "print(\"Neural Network Model - Evaluation Metrics:\")\n",
        "print(\"Area Under ROC: {}\".format(auc_nn))\n",
        "print(\"Area Under PR: {}\".format(auprc))\n",
        "print(\"F1 Score: {}\".format(f1_score_nn))\n",
        "print(\"Precision: {}\".format(precision_nn))\n",
        "print(\"Recall: {}\".format(recall_nn))\n"
      ],
      "metadata": {
        "colab": {
          "base_uri": "https://localhost:8080/"
        },
        "id": "ExA7ywtP-1_7",
        "outputId": "c6dd6862-6981-4d17-e02e-3343d896ad27"
      },
      "execution_count": 42,
      "outputs": [
        {
          "output_type": "stream",
          "name": "stdout",
          "text": [
            "Neural Network Model - Evaluation Metrics:\n",
            "Area Under ROC: 0.9955877186430643\n",
            "Area Under PR: 0.9918767847748418\n",
            "F1 Score: 0.9955749663100978\n",
            "Precision: 0.9955992696527829\n",
            "Recall: 0.9955749636098981\n"
          ]
        }
      ]
    },
    {
      "cell_type": "code",
      "source": [
        "#hyperparamter tuning 2\n",
        "# Define the hyperparameters for the neural network\n",
        "layers = [29, 18, 8, 2]\n",
        "max_iter = 150\n",
        "tolerance = 1e-6\n",
        "block_size = 128\n",
        "solver = \"l-bfgs\"\n",
        "step_size = 0.02\n",
        "\n",
        "# Create the neural network\n",
        "nn = MultilayerPerceptronClassifier(\n",
        "    labelCol=\"Class\", \n",
        "    featuresCol=\"features\", \n",
        "    maxIter=max_iter, \n",
        "    layers=layers, \n",
        "    tol=tolerance, \n",
        "    blockSize=block_size, \n",
        "    solver=solver,\n",
        "    stepSize=step_size\n",
        ")\n",
        "\n",
        "# Train the model\n",
        "model_nn = nn.fit(train_data)\n",
        "\n",
        "# Make predictions on the test data\n",
        "predictions_nn = model_nn.transform(test_data)\n",
        "# Evaluate the model\n",
        "evaluator_auc_nn = BinaryClassificationEvaluator(labelCol=\"Class\", rawPredictionCol=\"prediction\", metricName=\"areaUnderROC\")\n",
        "auc_nn = evaluator_auc_nn.evaluate(predictions_nn)\n",
        "\n",
        "evaluator_recall_nn = BinaryClassificationEvaluator(labelCol=\"Class\", rawPredictionCol=\"prediction\", metricName=\"areaUnderPR\")\n",
        "auprc = evaluator_recall_nn.evaluate(predictions_nn)\n",
        "\n",
        "evaluator_f1_nn = MulticlassClassificationEvaluator(labelCol=\"Class\", predictionCol=\"prediction\", metricName=\"f1\")\n",
        "f1_score_nn = evaluator_f1_nn.evaluate(predictions_nn)\n",
        "\n",
        "evaluator_precision_nn = MulticlassClassificationEvaluator(labelCol=\"Class\", predictionCol=\"prediction\", metricName=\"weightedPrecision\")\n",
        "precision_nn = evaluator_precision_nn.evaluate(predictions_nn)\n",
        "\n",
        "evaluator_recall_nn = MulticlassClassificationEvaluator(labelCol=\"Class\", predictionCol=\"prediction\", metricName=\"weightedRecall\")\n",
        "recall_nn = evaluator_recall_nn.evaluate(predictions_nn)\n",
        "\n",
        "# Print the evaluation metrics\n",
        "print(\"Neural Network Model - Evaluation Metrics:\")\n",
        "print(\"Area Under ROC: {}\".format(auc_nn))\n",
        "print(\"Area Under PR: {}\".format(auprc))\n",
        "print(\"F1 Score: {}\".format(f1_score_nn))\n",
        "print(\"Precision: {}\".format(precision_nn))\n",
        "print(\"Recall: {}\".format(recall_nn))\n"
      ],
      "metadata": {
        "colab": {
          "base_uri": "https://localhost:8080/"
        },
        "id": "OWVDnRGKCJzS",
        "outputId": "e69dcb8d-6894-43aa-f08f-6305dd9b2380"
      },
      "execution_count": 46,
      "outputs": [
        {
          "output_type": "stream",
          "name": "stdout",
          "text": [
            "Neural Network Model - Evaluation Metrics:\n",
            "Area Under ROC: 0.9972145999241376\n",
            "Area Under PR: 0.9945931350646661\n",
            "F1 Score: 0.9972052480952676\n",
            "Precision: 0.9972183456446311\n",
            "Recall: 0.9972052401746725\n"
          ]
        }
      ]
    },
    {
      "cell_type": "code",
      "source": [
        "#hyperparamter tuning 3\n",
        "# Define the hyperparameters for the neural network\n",
        "layers = [29, 25, 20, 15, 10, 5, 2]\n",
        "max_iter = 200\n",
        "tolerance = 1e-8\n",
        "block_size = 64\n",
        "solver = \"gd\"\n",
        "step_size = 0.01\n",
        "\n",
        "# Create the neural network\n",
        "nn = MultilayerPerceptronClassifier(\n",
        "    labelCol=\"Class\", \n",
        "    featuresCol=\"features\", \n",
        "    maxIter=max_iter, \n",
        "    layers=layers, \n",
        "    tol=tolerance, \n",
        "    blockSize=block_size, \n",
        "    solver=solver,\n",
        "    stepSize=step_size\n",
        ")\n",
        "\n",
        "# Train the model\n",
        "model_nn = nn.fit(train_data)\n",
        "\n",
        "# Make predictions on the test data\n",
        "predictions_nn = model_nn.transform(test_data)\n",
        "# Evaluate the model\n",
        "evaluator_auc_nn = BinaryClassificationEvaluator(labelCol=\"Class\", rawPredictionCol=\"prediction\", metricName=\"areaUnderROC\")\n",
        "auc_nn = evaluator_auc_nn.evaluate(predictions_nn)\n",
        "\n",
        "evaluator_recall_nn = BinaryClassificationEvaluator(labelCol=\"Class\", rawPredictionCol=\"prediction\", metricName=\"areaUnderPR\")\n",
        "auprc = evaluator_recall_nn.evaluate(predictions_nn)\n",
        "\n",
        "evaluator_f1_nn = MulticlassClassificationEvaluator(labelCol=\"Class\", predictionCol=\"prediction\", metricName=\"f1\")\n",
        "f1_score_nn = evaluator_f1_nn.evaluate(predictions_nn)\n",
        "\n",
        "evaluator_precision_nn = MulticlassClassificationEvaluator(labelCol=\"Class\", predictionCol=\"prediction\", metricName=\"weightedPrecision\")\n",
        "precision_nn = evaluator_precision_nn.evaluate(predictions_nn)\n",
        "\n",
        "evaluator_recall_nn = MulticlassClassificationEvaluator(labelCol=\"Class\", predictionCol=\"prediction\", metricName=\"weightedRecall\")\n",
        "recall_nn = evaluator_recall_nn.evaluate(predictions_nn)\n",
        "\n",
        "# Print the evaluation metrics\n",
        "print(\"Neural Network Model - Evaluation Metrics:\")\n",
        "print(\"Area Under ROC: {}\".format(auc_nn))\n",
        "print(\"Area Under PR: {}\".format(auprc))\n",
        "print(\"F1 Score: {}\".format(f1_score_nn))\n",
        "print(\"Precision: {}\".format(precision_nn))\n",
        "print(\"Recall: {}\".format(recall_nn))\n"
      ],
      "metadata": {
        "colab": {
          "base_uri": "https://localhost:8080/"
        },
        "id": "YjtG9vSwCzea",
        "outputId": "d47a4add-89e3-4832-ab18-2e8454b52e1a"
      },
      "execution_count": 45,
      "outputs": [
        {
          "output_type": "stream",
          "name": "stdout",
          "text": [
            "Neural Network Model - Evaluation Metrics:\n",
            "Area Under ROC: 0.6071375424365785\n",
            "Area Under PR: 0.5892540611221115\n",
            "F1 Score: 0.6066905060681527\n",
            "Precision: 0.6077575936151474\n",
            "Recall: 0.6072780203784571\n"
          ]
        }
      ]
    },
    {
      "cell_type": "code",
      "source": [
        "#hyperparamter tuning 4\n",
        "# Define the hyperparameters for the neural network\n",
        "layers =  [29, 20, 10, 5, 2]\n",
        "max_iter = 100\n",
        "tolerance = 1e-6\n",
        "block_size = 128\n",
        "solver = \"gd\"\n",
        "step_size = 0.01\n",
        "\n",
        "# Create the neural network\n",
        "nn = MultilayerPerceptronClassifier(\n",
        "    labelCol=\"Class\", \n",
        "    featuresCol=\"features\", \n",
        "    maxIter=max_iter, \n",
        "    layers=layers, \n",
        "    tol=tolerance, \n",
        "    blockSize=block_size, \n",
        "    solver=solver,\n",
        "    stepSize=step_size\n",
        ")\n",
        "\n",
        "# Train the model\n",
        "model_nn = nn.fit(train_data)\n",
        "\n",
        "# Make predictions on the test data\n",
        "predictions_nn = model_nn.transform(test_data)\n",
        "# Evaluate the model\n",
        "evaluator_auc_nn = BinaryClassificationEvaluator(labelCol=\"Class\", rawPredictionCol=\"prediction\", metricName=\"areaUnderROC\")\n",
        "auc_nn = evaluator_auc_nn.evaluate(predictions_nn)\n",
        "\n",
        "evaluator_recall_nn = BinaryClassificationEvaluator(labelCol=\"Class\", rawPredictionCol=\"prediction\", metricName=\"areaUnderPR\")\n",
        "recall_nn = evaluator_recall_nn.evaluate(predictions_nn)\n",
        "\n",
        "evaluator_f1_nn = MulticlassClassificationEvaluator(labelCol=\"Class\", predictionCol=\"prediction\", metricName=\"f1\")\n",
        "f1_score_nn = evaluator_f1_nn.evaluate(predictions_nn)\n",
        "\n",
        "evaluator_precision_nn = MulticlassClassificationEvaluator(labelCol=\"Class\", predictionCol=\"prediction\", metricName=\"weightedPrecision\")\n",
        "precision_nn = evaluator_precision_nn.evaluate(predictions_nn)\n",
        "\n",
        "evaluator_recall_nn = MulticlassClassificationEvaluator(labelCol=\"Class\", predictionCol=\"prediction\", metricName=\"weightedRecall\")\n",
        "recall_nn = evaluator_recall_nn.evaluate(predictions_nn)\n",
        "\n",
        "# Print the evaluation metrics\n",
        "print(\"Neural Network Model - Evaluation Metrics:\")\n",
        "print(\"Area Under ROC: {}\".format(auc_nn))\n",
        "print(\"Area Under PR: {}\".format(recall_nn))\n",
        "print(\"F1 Score: {}\".format(f1_score_nn))\n",
        "print(\"Precision: {}\".format(precision_nn))\n",
        "print(\"Recall: {}\".format(recall_nn))\n"
      ],
      "metadata": {
        "colab": {
          "base_uri": "https://localhost:8080/"
        },
        "id": "m5MjlxeyDx9W",
        "outputId": "d42b038a-bbba-441f-f3f3-9f17696d24e3"
      },
      "execution_count": 47,
      "outputs": [
        {
          "output_type": "stream",
          "name": "stdout",
          "text": [
            "Neural Network Model - Evaluation Metrics:\n",
            "Area Under ROC: 0.5\n",
            "Area Under PR: 0.49816593886462884\n",
            "F1 Score: 0.3312974834188927\n",
            "Precision: 0.24816930264487713\n",
            "Recall: 0.49816593886462884\n"
          ]
        }
      ]
    },
    {
      "cell_type": "code",
      "source": [
        "#hyperparamter tuning 5\n",
        "# Define the hyperparameters for the neural network\n",
        "layers = [29, 25, 20, 15, 10, 5, 2]\n",
        "max_iter = 200\n",
        "tolerance = 1e-8\n",
        "block_size = 64\n",
        "solver = \"l-bfgs\"\n",
        "step_size = 0.01\n",
        "\n",
        "# Create the neural network\n",
        "nn = MultilayerPerceptronClassifier(\n",
        "    labelCol=\"Class\", \n",
        "    featuresCol=\"features\", \n",
        "    maxIter=max_iter, \n",
        "    layers=layers, \n",
        "    tol=tolerance, \n",
        "    blockSize=block_size, \n",
        "    solver=solver,\n",
        "    stepSize=step_size\n",
        ")\n",
        "\n",
        "# Train the model\n",
        "model_nn = nn.fit(train_data)\n",
        "\n",
        "# Make predictions on the test data\n",
        "predictions_nn = model_nn.transform(test_data)\n",
        "# Evaluate the model\n",
        "evaluator_auc_nn = BinaryClassificationEvaluator(labelCol=\"Class\", rawPredictionCol=\"prediction\", metricName=\"areaUnderROC\")\n",
        "auc_nn = evaluator_auc_nn.evaluate(predictions_nn)\n",
        "\n",
        "evaluator_recall_nn = BinaryClassificationEvaluator(labelCol=\"Class\", rawPredictionCol=\"prediction\", metricName=\"areaUnderPR\")\n",
        "auprc = evaluator_recall_nn.evaluate(predictions_nn)\n",
        "\n",
        "evaluator_f1_nn = MulticlassClassificationEvaluator(labelCol=\"Class\", predictionCol=\"prediction\", metricName=\"f1\")\n",
        "f1_score_nn = evaluator_f1_nn.evaluate(predictions_nn)\n",
        "\n",
        "evaluator_precision_nn = MulticlassClassificationEvaluator(labelCol=\"Class\", predictionCol=\"prediction\", metricName=\"weightedPrecision\")\n",
        "precision_nn = evaluator_precision_nn.evaluate(predictions_nn)\n",
        "\n",
        "evaluator_recall_nn = MulticlassClassificationEvaluator(labelCol=\"Class\", predictionCol=\"prediction\", metricName=\"weightedRecall\")\n",
        "recall_nn = evaluator_recall_nn.evaluate(predictions_nn)\n",
        "\n",
        "# Print the evaluation metrics\n",
        "print(\"Neural Network Model - Evaluation Metrics:\")\n",
        "print(\"Area Under ROC: {}\".format(auc_nn))\n",
        "print(\"Area Under PR: {}\".format(auprc))\n",
        "print(\"F1 Score: {}\".format(f1_score_nn))\n",
        "print(\"Precision: {}\".format(precision_nn))\n",
        "print(\"Recall: {}\".format(recall_nn))\n"
      ],
      "metadata": {
        "colab": {
          "base_uri": "https://localhost:8080/"
        },
        "id": "h1H9HSdeEm2I",
        "outputId": "b4eb4f87-aef8-4b6f-b240-5781ee6b310b"
      },
      "execution_count": 48,
      "outputs": [
        {
          "output_type": "stream",
          "name": "stdout",
          "text": [
            "Neural Network Model - Evaluation Metrics:\n",
            "Area Under ROC: 0.9984336930038287\n",
            "Area Under PR: 0.9968542467668647\n",
            "F1 Score: 0.9984279527783958\n",
            "Precision: 0.9984328928871787\n",
            "Recall: 0.9984279475982534\n"
          ]
        }
      ]
    }
  ],
  "metadata": {
    "colab": {
      "provenance": []
    },
    "kernelspec": {
      "display_name": "Python 3",
      "name": "python3"
    },
    "language_info": {
      "name": "python"
    }
  },
  "nbformat": 4,
  "nbformat_minor": 0
}